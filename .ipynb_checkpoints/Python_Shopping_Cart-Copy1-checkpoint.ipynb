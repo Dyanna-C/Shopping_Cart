{
 "cells": [
  {
   "cell_type": "markdown",
   "id": "216ce502",
   "metadata": {},
   "source": [
    "Build a shopping cart program with the following capabilities:\n",
    "\n",
    "1) Takes in an input\n",
    "2) Stores user input into a dictionary or list\n",
    "3) The User can add or delete items\n",
    "4) The User can see current shopping list\n",
    "5) The program Loops until user 'quits'\n",
    "6) Upon quiting the program, prints out a receipt of the items with total and quantity."
   ]
  },
  {
   "cell_type": "code",
   "execution_count": null,
   "id": "f562d1ae",
   "metadata": {},
   "outputs": [],
   "source": [
    "#Q1. What are the inputs?#\n",
    "#A1. The inputs are the items added to the shopping cart#\n",
    "#Q2. What are the outputs?#\n",
    "#A2. The outputs are receipts of the items with total and quantity#\n",
    "#Q3. Consider Cobstraints and Edge#\n",
    "#A3. Constraints: Must inclde total cost of items. User must be able to see current shopping list. The user must be able to add or delet items#\n",
    "#A3. Edge: Have to make sure we can get the total cost and quantity of items in the output.#\n",
    "#Q4. add items for shopping list, store items for list. edit items, finish list, print receipt\n"
   ]
  },
  {
   "cell_type": "code",
   "execution_count": 5,
   "id": "30a9e067",
   "metadata": {},
   "outputs": [
    {
     "name": "stdout",
     "output_type": "stream",
     "text": [
      "What item would you like to add to your shopping cart? apple\n",
      "What is apple's cost in dollars? 10\n",
      "Would you like to continue? y/n y\n",
      "What item would you like to add to your shopping cart? pear\n",
      "What is pear's cost in dollars? 12\n",
      "Would you like to continue? y/n n\n",
      "Would you like to remove an item from the cart? y/n y\n"
     ]
    },
    {
     "ename": "KeyboardInterrupt",
     "evalue": "Interrupted by user",
     "output_type": "error",
     "traceback": [
      "\u001b[0;31m---------------------------------------------------------------------------\u001b[0m",
      "\u001b[0;31mKeyboardInterrupt\u001b[0m                         Traceback (most recent call last)",
      "Input \u001b[0;32mIn [5]\u001b[0m, in \u001b[0;36m<cell line: 38>\u001b[0;34m()\u001b[0m\n\u001b[1;32m     35\u001b[0m     \u001b[38;5;28;01mreturn\u001b[39;00m my_cart\n\u001b[1;32m     37\u001b[0m \u001b[38;5;66;03m# Step 8 \u001b[39;00m\n\u001b[0;32m---> 38\u001b[0m \u001b[43mshopping_cart\u001b[49m\u001b[43m(\u001b[49m\u001b[43m)\u001b[49m\n",
      "Input \u001b[0;32mIn [5]\u001b[0m, in \u001b[0;36mshopping_cart\u001b[0;34m(my_cart)\u001b[0m\n\u001b[1;32m      4\u001b[0m \u001b[38;5;28;01mdef\u001b[39;00m \u001b[38;5;21mshopping_cart\u001b[39m(my_cart\u001b[38;5;241m=\u001b[39m{}): \u001b[38;5;66;03m# Step 2\u001b[39;00m\n\u001b[1;32m      6\u001b[0m     \u001b[38;5;28;01mwhile\u001b[39;00m \u001b[38;5;28;01mTrue\u001b[39;00m: \u001b[38;5;66;03m# Step 3\u001b[39;00m\n\u001b[1;32m      7\u001b[0m         \n\u001b[1;32m      8\u001b[0m         \u001b[38;5;66;03m# Step 4\u001b[39;00m\n\u001b[0;32m----> 9\u001b[0m         item \u001b[38;5;241m=\u001b[39m \u001b[38;5;28;43minput\u001b[39;49m\u001b[43m(\u001b[49m\u001b[38;5;124;43m'\u001b[39;49m\u001b[38;5;124;43mWhat item would you like to add to your shopping cart? \u001b[39;49m\u001b[38;5;124;43m'\u001b[39;49m\u001b[43m)\u001b[49m\n\u001b[1;32m     10\u001b[0m         cost \u001b[38;5;241m=\u001b[39m \u001b[38;5;28minput\u001b[39m(\u001b[38;5;124mf\u001b[39m\u001b[38;5;124m\"\u001b[39m\u001b[38;5;124mWhat is \u001b[39m\u001b[38;5;132;01m{\u001b[39;00mitem\u001b[38;5;132;01m}\u001b[39;00m\u001b[38;5;124m'\u001b[39m\u001b[38;5;124ms cost in dollars? \u001b[39m\u001b[38;5;124m\"\u001b[39m)\n\u001b[1;32m     12\u001b[0m         \u001b[38;5;66;03m# add/remove/show/clear/Quit#\u001b[39;00m\n\u001b[1;32m     13\u001b[0m         \u001b[38;5;66;03m# Step 5\u001b[39;00m\n",
      "File \u001b[0;32m~/opt/anaconda3/lib/python3.9/site-packages/ipykernel/kernelbase.py:1075\u001b[0m, in \u001b[0;36mKernel.raw_input\u001b[0;34m(self, prompt)\u001b[0m\n\u001b[1;32m   1071\u001b[0m \u001b[38;5;28;01mif\u001b[39;00m \u001b[38;5;129;01mnot\u001b[39;00m \u001b[38;5;28mself\u001b[39m\u001b[38;5;241m.\u001b[39m_allow_stdin:\n\u001b[1;32m   1072\u001b[0m     \u001b[38;5;28;01mraise\u001b[39;00m StdinNotImplementedError(\n\u001b[1;32m   1073\u001b[0m         \u001b[38;5;124m\"\u001b[39m\u001b[38;5;124mraw_input was called, but this frontend does not support input requests.\u001b[39m\u001b[38;5;124m\"\u001b[39m\n\u001b[1;32m   1074\u001b[0m     )\n\u001b[0;32m-> 1075\u001b[0m \u001b[38;5;28;01mreturn\u001b[39;00m \u001b[38;5;28;43mself\u001b[39;49m\u001b[38;5;241;43m.\u001b[39;49m\u001b[43m_input_request\u001b[49m\u001b[43m(\u001b[49m\n\u001b[1;32m   1076\u001b[0m \u001b[43m    \u001b[49m\u001b[38;5;28;43mstr\u001b[39;49m\u001b[43m(\u001b[49m\u001b[43mprompt\u001b[49m\u001b[43m)\u001b[49m\u001b[43m,\u001b[49m\n\u001b[1;32m   1077\u001b[0m \u001b[43m    \u001b[49m\u001b[38;5;28;43mself\u001b[39;49m\u001b[38;5;241;43m.\u001b[39;49m\u001b[43m_parent_ident\u001b[49m\u001b[43m[\u001b[49m\u001b[38;5;124;43m\"\u001b[39;49m\u001b[38;5;124;43mshell\u001b[39;49m\u001b[38;5;124;43m\"\u001b[39;49m\u001b[43m]\u001b[49m\u001b[43m,\u001b[49m\n\u001b[1;32m   1078\u001b[0m \u001b[43m    \u001b[49m\u001b[38;5;28;43mself\u001b[39;49m\u001b[38;5;241;43m.\u001b[39;49m\u001b[43mget_parent\u001b[49m\u001b[43m(\u001b[49m\u001b[38;5;124;43m\"\u001b[39;49m\u001b[38;5;124;43mshell\u001b[39;49m\u001b[38;5;124;43m\"\u001b[39;49m\u001b[43m)\u001b[49m\u001b[43m,\u001b[49m\n\u001b[1;32m   1079\u001b[0m \u001b[43m    \u001b[49m\u001b[43mpassword\u001b[49m\u001b[38;5;241;43m=\u001b[39;49m\u001b[38;5;28;43;01mFalse\u001b[39;49;00m\u001b[43m,\u001b[49m\n\u001b[1;32m   1080\u001b[0m \u001b[43m\u001b[49m\u001b[43m)\u001b[49m\n",
      "File \u001b[0;32m~/opt/anaconda3/lib/python3.9/site-packages/ipykernel/kernelbase.py:1120\u001b[0m, in \u001b[0;36mKernel._input_request\u001b[0;34m(self, prompt, ident, parent, password)\u001b[0m\n\u001b[1;32m   1117\u001b[0m             \u001b[38;5;28;01mbreak\u001b[39;00m\n\u001b[1;32m   1118\u001b[0m \u001b[38;5;28;01mexcept\u001b[39;00m \u001b[38;5;167;01mKeyboardInterrupt\u001b[39;00m:\n\u001b[1;32m   1119\u001b[0m     \u001b[38;5;66;03m# re-raise KeyboardInterrupt, to truncate traceback\u001b[39;00m\n\u001b[0;32m-> 1120\u001b[0m     \u001b[38;5;28;01mraise\u001b[39;00m \u001b[38;5;167;01mKeyboardInterrupt\u001b[39;00m(\u001b[38;5;124m\"\u001b[39m\u001b[38;5;124mInterrupted by user\u001b[39m\u001b[38;5;124m\"\u001b[39m) \u001b[38;5;28;01mfrom\u001b[39;00m \u001b[38;5;28mNone\u001b[39m\n\u001b[1;32m   1121\u001b[0m \u001b[38;5;28;01mexcept\u001b[39;00m \u001b[38;5;167;01mException\u001b[39;00m:\n\u001b[1;32m   1122\u001b[0m     \u001b[38;5;28mself\u001b[39m\u001b[38;5;241m.\u001b[39mlog\u001b[38;5;241m.\u001b[39mwarning(\u001b[38;5;124m\"\u001b[39m\u001b[38;5;124mInvalid Message:\u001b[39m\u001b[38;5;124m\"\u001b[39m, exc_info\u001b[38;5;241m=\u001b[39m\u001b[38;5;28;01mTrue\u001b[39;00m)\n",
      "\u001b[0;31mKeyboardInterrupt\u001b[0m: Interrupted by user"
     ]
    }
   ],
   "source": [
    "#Get items, Save items, Edit list of items, view list of items, finish making list, print receipt of items#\n",
    "\n",
    "# Step 1\n",
    "def shopping_cart(my_cart={}): # Step 2\n",
    "    \n",
    "    while True: # Step 3\n",
    "        \n",
    "        # Step 4\n",
    "        item = input('What item would you like to add to your shopping cart? ')\n",
    "        cost = input(f\"What is {item}'s cost in dollars? \")\n",
    "        \n",
    "        # add/remove/show/clear/Quit#\n",
    "        # Step 5\n",
    "        \n",
    "        my_cart[item] = cost\n",
    "        \n",
    "        #clear_output()#\n",
    "        # ask = input('Would you like to add to your shopping list? y/n')#\n",
    "        ask = input('Would you like to continue? y/n ').lower()\n",
    "        \n",
    "        while ask not in {'y', 'n'}:\n",
    "            #clear_output()#\n",
    "            ask = input('That is not a valid response. Please type y or n ')\n",
    "            \n",
    "        # Step 6\n",
    "        if ask == 'n':\n",
    "           # clear_output()#\n",
    "            #break\n",
    "            ask = input('Would you like to remove an item from the cart? y/n ').lower()\n",
    "    \n",
    "    # Step 7\n",
    "    for item, cost in my_cart.items():\n",
    "        print(f\"{item} is {cost} dollars\")\n",
    "        \n",
    "    return my_cart\n",
    "        \n",
    "# Step 8 \n",
    "shopping_cart()\n"
   ]
  },
  {
   "cell_type": "code",
   "execution_count": null,
   "id": "4b8dcbad",
   "metadata": {},
   "outputs": [],
   "source": [
    "#What would you like to do? (add, remove, finish, purchase)#\n",
    "#if the word is while its always a look#\n",
    "#while is a control statement, and a statement has to resolve to a booleen to resolve to an answer#"
   ]
  },
  {
   "cell_type": "code",
   "execution_count": 9,
   "id": "2fbd7ae0",
   "metadata": {},
   "outputs": [],
   "source": [
    "def shopping_cart():\n",
    "    my_cart = {}\n",
    "    #(my_cart={}): # Step 2 key,value\n",
    "     \n",
    "        \n",
    "    \n",
    "    while True: # Step 3\n",
    "        \n",
    "        # Step 4\n",
    "        ask = input('What would you like to do with the shopping cart? add item, remove item, show cart, checkout').lower()\n",
    "        \n",
    "         \n",
    "        # Step 5 received help from tutor\n",
    "        print(f'Ask was: {ask}')\n",
    "            \n",
    "        if ask == 'add item':\n",
    "            item = input('What item would you like to add to your shopping cart? ')\n",
    "            cost = input(f\"What is {item}'s cost in dollars? \")\n",
    "        \n",
    "     \n",
    "        if ask == 'remove item':\n",
    "            remove_item = input ('What item would you like to remove')\n",
    "            if remove_item in my_cart:\n",
    "                my_cart.pop(remove_item)\n",
    "        #cannot get program to recognize next line of code and don't know why\n",
    "        if ask == 'show cart':\n",
    "       \n",
    "            for item, cost in my_cart.items():\n",
    "                print(f\"{item} is {cost} dollars\")         \n",
    "            \n",
    "            \n",
    "        #if ask == 'checkout':\n",
    "            \n",
    "             # Step 7\n",
    "    \n",
    "        \n",
    "    #return my_cart\n",
    "        \n",
    "# Step 8\n",
    "#my_shopping_book = shopping_cart()\n",
    "        "
   ]
  },
  {
   "cell_type": "code",
   "execution_count": null,
   "id": "02391642",
   "metadata": {},
   "outputs": [
    {
     "name": "stdout",
     "output_type": "stream",
     "text": [
      "What would you like to do with the shopping cart? add item, remove item, show cart, checkoutadd item\n",
      "Ask was: add item\n",
      "What item would you like to add to your shopping cart? apple\n",
      "What is apple's cost in dollars? 7\n",
      "What would you like to do with the shopping cart? add item, remove item, show cart, checkoutadd item\n",
      "Ask was: add item\n",
      "What item would you like to add to your shopping cart? pear\n",
      "What is pear's cost in dollars? 5\n",
      "What would you like to do with the shopping cart? add item, remove item, show cart, checkoutremove item\n",
      "Ask was: remove item\n",
      "What item would you like to removeapple\n",
      "What would you like to do with the shopping cart? add item, remove item, show cart, checkoutshow cart\n",
      "Ask was: show cart\n"
     ]
    }
   ],
   "source": [
    "shopping_cart()"
   ]
  },
  {
   "cell_type": "code",
   "execution_count": null,
   "id": "d84d3266",
   "metadata": {},
   "outputs": [],
   "source": []
  }
 ],
 "metadata": {
  "kernelspec": {
   "display_name": "Python 3 (ipykernel)",
   "language": "python",
   "name": "python3"
  },
  "language_info": {
   "codemirror_mode": {
    "name": "ipython",
    "version": 3
   },
   "file_extension": ".py",
   "mimetype": "text/x-python",
   "name": "python",
   "nbconvert_exporter": "python",
   "pygments_lexer": "ipython3",
   "version": "3.9.12"
  }
 },
 "nbformat": 4,
 "nbformat_minor": 5
}
