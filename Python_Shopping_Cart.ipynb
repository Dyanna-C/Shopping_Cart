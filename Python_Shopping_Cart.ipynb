{
 "cells": [
  {
   "cell_type": "markdown",
   "id": "216ce502",
   "metadata": {},
   "source": [
    "Build a shopping cart program with the following capabilities:\n",
    "\n",
    "1) Takes in an input\n",
    "2) Stores user input into a dictionary or list\n",
    "3) The User can add or delete items\n",
    "4) The User can see current shopping list\n",
    "5) The program Loops until user 'quits'\n",
    "6) Upon quiting the program, prints out a receipt of the items with total and quantity."
   ]
  },
  {
   "cell_type": "code",
   "execution_count": null,
   "id": "f562d1ae",
   "metadata": {},
   "outputs": [],
   "source": [
    "#Q1. What are the inputs?#\n",
    "#A1. The inputs are the items added to the shopping cart#\n",
    "#Q2. What are the outputs?#\n",
    "#A2. The outputs are receipts of the items with total and quantity#\n",
    "#Q3. Consider Cobstraints and Edge#\n",
    "#A3. Constraints: Must inclde total cost of items. User must be able to see current shopping list. The user must be able to add or delet items#\n",
    "#A3. Edge: Have to make sure we can get the total cost and quantity of items in the output.#\n",
    "#Q4. add items for shopping list, store items for list. edit items, finish list, print receipt\n"
   ]
  },
  {
   "cell_type": "code",
   "execution_count": null,
   "id": "4b8dcbad",
   "metadata": {},
   "outputs": [],
   "source": [
    "#What would you like to do? (add, remove, finish, purchase)#\n",
    "#if the word is while its always a look#\n",
    "#while is a control statement, and a statement has to resolve to a booleen to resolve to an answer#"
   ]
  },
  {
   "cell_type": "code",
   "execution_count": null,
   "id": "02391642",
   "metadata": {},
   "outputs": [
    {
     "name": "stdout",
     "output_type": "stream",
     "text": [
      "What would you like to do with the shopping cart? add item, remove item, show cart, checkoutadd item\n",
      "Ask was: add item\n",
      "What item would you like to add to your shopping cart? apple\n",
      "What is apple's cost in dollars? 7\n",
      "What would you like to do with the shopping cart? add item, remove item, show cart, checkoutadd item\n",
      "Ask was: add item\n",
      "What item would you like to add to your shopping cart? pear\n",
      "What is pear's cost in dollars? 5\n",
      "What would you like to do with the shopping cart? add item, remove item, show cart, checkoutremove item\n",
      "Ask was: remove item\n",
      "What item would you like to removeapple\n",
      "What would you like to do with the shopping cart? add item, remove item, show cart, checkoutshow cart\n",
      "Ask was: show cart\n"
     ]
    }
   ],
   "source": [
    "def shopping_cart():\n",
    "    my_cart = {}\n",
    "    total_items = 0\n",
    "    #total cost of items in dollars\n",
    "    total_cost  = 0\n",
    "    #(my_cart={}): # Step 2 key,value\n",
    "     \n",
    "        \n",
    "    \n",
    "    while True: # Step 3\n",
    "        \n",
    "        # Step 4\n",
    "        ask = input('What would you like to do with the shopping cart? add item, remove item, show cart, checkout').lower()\n",
    "        \n",
    "         \n",
    "        # Step 5 received help from tutor\n",
    "        print(f'Ask was: {ask}')\n",
    "            \n",
    "        if ask == 'add item':\n",
    "            item = input('What item would you like to add to your shopping cart? ')\n",
    "            cost = input(f\"What is {item}'s cost in dollars? \")\n",
    "            my_cart[item] = cost\n",
    "            print(my_cart)\n",
    "     \n",
    "        if ask == 'remove item':\n",
    "            remove_item = input ('What item would you like to remove')\n",
    "            if remove_item in my_cart:\n",
    "                my_cart.pop(remove_item)\n",
    "\n",
    "        #cannot get program to recognize next line of code and don't know why\n",
    "        if ask == 'show cart':\n",
    "            print(my_cart)\n",
    "\n",
    "        if ask == 'checkout':\n",
    "            for item, cost in my_cart.items():\n",
    "                print(f\"{item} is {cost} dollars\") \n",
    "                total_items += 1 \n",
    "                total_cost += int(cost) \n",
    "                \n",
    "            \n",
    "            print(total_items)\n",
    "            print(total_cost)\n",
    "        \n",
    "            \n",
    "             # Step 7\n",
    "    \n",
    "        \n",
    "    #return my_cart\n",
    "        \n",
    "# Step 8\n",
    "#my_shopping_book = shopping_cart()\n",
    "\n",
    "shopping_cart() "
   ]
  }
 ],
 "metadata": {
  "kernelspec": {
   "display_name": "Python 3 (ipykernel)",
   "language": "python",
   "name": "python3"
  },
  "language_info": {
   "codemirror_mode": {
    "name": "ipython",
    "version": 3
   },
   "file_extension": ".py",
   "mimetype": "text/x-python",
   "name": "python",
   "nbconvert_exporter": "python",
   "pygments_lexer": "ipython3",
   "version": "3.9.12"
  }
 },
 "nbformat": 4,
 "nbformat_minor": 5
}
